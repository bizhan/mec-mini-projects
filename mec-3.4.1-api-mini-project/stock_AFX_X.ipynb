{
 "cells": [
  {
   "cell_type": "code",
   "execution_count": 3,
   "id": "4260af08-5c8f-490e-9927-55292e3c3514",
   "metadata": {},
   "outputs": [],
   "source": [
    "import os\n",
    "import requests\n",
    "import json\n",
    "from dotenv import load_dotenv\n",
    "\n",
    "Date = 0\n",
    "Open = 1\n",
    "High = 2\n",
    "Low = 3\n",
    "Close = 4\n",
    "Ex_Dividend = 5\n",
    "Split_Ratio = 6\n",
    "Adj_Open = 7\n",
    "Adj_High = 8\n",
    "Adj_Low = 9\n",
    "Adj_Close = 10\n",
    "Adj_Volume = 11\n",
    "year_2017 = []\n",
    "\n",
    "headers = {\n",
    "        'user-agent': 'Mozilla/5.0 (Windows NT 10.0; Win64; x64) AppleWebKit/537.36 (KHTML, like Gecko) Chrome/75.0.3770.142 Safari/537.36'}\n",
    "load_dotenv()\n",
    "API_KEY = os.getenv('NASDAQ_API_KEY')\n",
    "url = 'https://data.nasdaq.com/api/v3/datasets/WIKI/FB/data.json?api_key=' + API_KEY\n",
    "#print(url)\n",
    "data = requests.get(url, headers=headers)\n",
    "#print(data)\n",
    "\n",
    "#2. Convert the returned JSON object into a Python dictionary\n",
    "dict_data = data.json()\n",
    "#print(dict_data['dataset_data']['data'])\n",
    "\n",
    "#1. Collect data from the Franfurt Stock Exchange, for the ticker AFX_X, for the whole year 2017\n",
    "years = dict_data['dataset_data']['data']\n",
    "for year in range(len(years)):\n",
    "    #print(years[year][Date])\n",
    "    if years[year][Date] >= '2017-01-01' and years[year][Date] <= '2017-12-30':\n",
    "        #print(data[year][0])\n",
    "        year_2017.append(years[year])"
   ]
  },
  {
   "cell_type": "code",
   "execution_count": 4,
   "id": "9f85ec7e-2115-4f37-9e7e-bc9e9d804b54",
   "metadata": {},
   "outputs": [
    {
     "name": "stdout",
     "output_type": "stream",
     "text": [
      "183.51\n",
      "116.03\n"
     ]
    }
   ],
   "source": [
    "#3. Calculate what the highest and lowest opening prices were for the stock in this period.\n",
    "highest_open = year_2017[0][Open]\n",
    "lowest_open = year_2017[0][Open]\n",
    "#print(highest_open)\n",
    "#print(lowest_open)\n",
    "#print(len(year_2017))\n",
    "\n",
    "for day in range(len(year_2017)):\n",
    "    #print(year_2017[day][Open])\n",
    "    if highest_open < year_2017[day][Open]:\n",
    "        highest_open = year_2017[day][Open]\n",
    "    if lowest_open > year_2017[day][Open]:\n",
    "        lowest_open = year_2017[day][Open]\n",
    "        \n",
    "print(highest_open)\n",
    "print(lowest_open)"
   ]
  },
  {
   "cell_type": "code",
   "execution_count": 5,
   "id": "facc2f8c-4ace-4d61-a065-fb14e16aefad",
   "metadata": {},
   "outputs": [
    {
     "name": "stdout",
     "output_type": "stream",
     "text": [
      "8.97999999999999\n"
     ]
    }
   ],
   "source": [
    "#4. What was the largest change in any one day (based on High and Low price)?\n",
    "largest_change = year_2017[0][High] - year_2017[0][Low]\n",
    "for day in range(len(year_2017)):\n",
    "    day_change = year_2017[day][High] - year_2017[day][Low]\n",
    "    #print(year_2017[day][High])\n",
    "    #print(year_2017[day][Low])\n",
    "    #print(day_change)\n",
    "    if largest_change < day_change:\n",
    "        largest_change = day_change\n",
    "        \n",
    "print(largest_change)"
   ]
  },
  {
   "cell_type": "code",
   "execution_count": 6,
   "id": "ee58d71e-1f5b-418d-ab15-392538f23ada",
   "metadata": {},
   "outputs": [
    {
     "name": "stdout",
     "output_type": "stream",
     "text": [
      "156.48380000000006\n"
     ]
    }
   ],
   "source": [
    "#6. What was the average daily trading volume during this year?\n",
    "avg_volume = 0\n",
    "for day in range(len(year_2017)):\n",
    "    avg_volume += year_2017[day][Adj_Volume]\n",
    "    \n",
    "avg_volume = avg_volume/len(year_2017)\n",
    "print(avg_volume)"
   ]
  },
  {
   "cell_type": "code",
   "execution_count": null,
   "id": "e791011d-6f20-475d-8a36-5deeac140a69",
   "metadata": {},
   "outputs": [],
   "source": []
  }
 ],
 "metadata": {
  "kernelspec": {
   "display_name": "Python (MEC Mini-Projects)",
   "language": "python",
   "name": "mec-miniprojects"
  },
  "language_info": {
   "codemirror_mode": {
    "name": "ipython",
    "version": 3
   },
   "file_extension": ".py",
   "mimetype": "text/x-python",
   "name": "python",
   "nbconvert_exporter": "python",
   "pygments_lexer": "ipython3",
   "version": "3.7.11"
  }
 },
 "nbformat": 4,
 "nbformat_minor": 5
}
